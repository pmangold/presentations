{
 "cells": [
  {
   "cell_type": "code",
   "execution_count": 1,
   "id": "71f5a6e8",
   "metadata": {},
   "outputs": [],
   "source": [
    "import matplotlib.pyplot as plt\n",
    "import numpy as np"
   ]
  },
  {
   "cell_type": "code",
   "execution_count": 36,
   "id": "621cc51e",
   "metadata": {},
   "outputs": [],
   "source": [
    "def upbd(T, mu=0.1, n=2500, epsilon=1, p=500, tau=10):\n",
    "    ret = np.ones(T)\n",
    "    \n",
    "    for t in range(1,T):\n",
    "        ret[t] = ret[t-1] * (1-max(mu/(tau),mu/p))\n",
    "        \n",
    "    return ret\n",
    "\n",
    "\n",
    "def upbd2(T, mu=0.1, n=1000, epsilon=1, p=100, tau=10):\n",
    "    ret = np.ones(T)\n",
    "    \n",
    "    for t in range(1,T):\n",
    "        ret[t] = ret[t-1] * (1-mu/p)\n",
    "        \n",
    "    return ret"
   ]
  },
  {
   "cell_type": "code",
   "execution_count": 37,
   "id": "02b1b426",
   "metadata": {},
   "outputs": [],
   "source": [
    "T = 1000\n",
    "y = upbd(T)\n",
    "y2 = upbd2(T)"
   ]
  },
  {
   "cell_type": "code",
   "execution_count": 38,
   "id": "1d436a6b",
   "metadata": {},
   "outputs": [
    {
     "data": {
      "image/png": "[encoded data removed]",
      "text/plain": [
       "<Figure size 432x288 with 1 Axes>"
      ]
     },
     "metadata": {
      "needs_background": "light"
     },
     "output_type": "display_data"
    }
   ],
   "source": [
    "plt.plot(np.arange(T), y)\n",
    "plt.plot(np.arange(T), y2)\n",
    "plt.yscale(\"log\")"
   ]
  },
  {
   "cell_type": "code",
   "execution_count": null,
   "id": "6d2c4f24",
   "metadata": {},
   "outputs": [],
   "source": []
  }
 ],
 "metadata": {
  "kernelspec": {
   "display_name": "Python 3 (ipykernel)",
   "language": "python",
   "name": "python3"
  },
  "language_info": {
   "codemirror_mode": {
    "name": "ipython",
    "version": 3
   },
   "file_extension": ".py",
   "mimetype": "text/x-python",
   "name": "python",
   "nbconvert_exporter": "python",
   "pygments_lexer": "ipython3",
   "version": "3.8.12"
  }
 },
 "nbformat": 4,
 "nbformat_minor": 5
}
